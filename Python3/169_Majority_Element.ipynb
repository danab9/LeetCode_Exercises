{
 "cells": [
  {
   "cell_type": "markdown",
   "metadata": {},
   "source": [
    "# **Intuition**\n",
    "Since the majority element appears more than **n/2** times, it must dominate at least one **bit position** across all numbers.\n",
    "By **counting 1s at each bit position**, we can reconstruct the majority element **bit by bit**.\n",
    "\n",
    "# **Approach**\n",
    "1. **Count the number of 1s** at each of the 32-bit positions.\n",
    "2. If the count of 1s at any bit position **exceeds n/2**, that bit belongs to the majority element.\n",
    "3. **Reconstruct the majority element** by setting bits accordingly.\n",
    "4. **Handle negative numbers**:\n",
    "   - If the **31st bit (sign bit) is set**, the majority element is negative.\n",
    "   - Convert `result` to a negative integer using `result -= (1 << 32)`.\n",
    "\n",
    "# **Complexity**\n",
    "- **Time Complexity:** $$O(n)$$ (Each number is processed in 32 iterations, but 32 is constant)\n",
    "- **Space Complexity:** $$O(1)$$ (Only a fixed-size `bit_counts` array is used)\n",
    "\n",
    "\n",
    "# **Key Takeaways**\n",
    "- bit operations "
   ]
  },
  {
   "cell_type": "code",
   "execution_count": null,
   "metadata": {},
   "outputs": [],
   "source": [
    "class Solution:\n",
    "    def majorityElement(self, nums: List[int]) -> int:\n",
    "        bit_counts = [0] * 32 \n",
    "        n = len(nums)\n",
    "\n",
    "        for element in nums:\n",
    "            for i in range(32):\n",
    "                if (element >> i) & 1:  # Check if the i-th bit is 1\n",
    "                   bit_counts[i] += 1\n",
    "        \n",
    "        # reconstruct the majority element\n",
    "        result = 0\n",
    "        for i in range(32):\n",
    "            if bit_counts[i] > (n >> 1 ): # greater than n//2\n",
    "                result |= (1 << i) # set the ith element to 1\n",
    "        \n",
    "        # If the 31st bit (sign bit) is set, convert result to negative\n",
    "        if result & (1 << 31):  # Check if the sign bit is set\n",
    "            result -= (1 << 32)  # Convert to negative value\n",
    "        return result\n"
   ]
  }
 ],
 "metadata": {
  "kernelspec": {
   "display_name": "Python 3",
   "language": "python",
   "name": "python3"
  },
  "language_info": {
   "name": "python",
   "version": "3.10.0"
  }
 },
 "nbformat": 4,
 "nbformat_minor": 2
}
